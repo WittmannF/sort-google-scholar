{
  "nbformat": 4,
  "nbformat_minor": 0,
  "metadata": {
    "colab": {
      "name": "Test sortgs.py on Colab.ipynb",
      "provenance": [],
      "include_colab_link": true
    },
    "kernelspec": {
      "name": "python3",
      "display_name": "Python 3"
    }
  },
  "cells": [
    {
      "cell_type": "markdown",
      "metadata": {
        "id": "view-in-github",
        "colab_type": "text"
      },
      "source": [
        "<a href=\"https://colab.research.google.com/github/WittmannF/sort-google-scholar/blob/master/examples/run_sortgs_on_colab.ipynb\" target=\"_parent\"><img src=\"https://colab.research.google.com/assets/colab-badge.svg\" alt=\"Open In Colab\"/></a>"
      ]
    },
    {
      "cell_type": "markdown",
      "metadata": {
        "id": "M36VFanosbkb"
      },
      "source": [
        "## Try `sortgs.py` on Google Colab\n",
        "This is a jupyter envirnment where you can try the code of the repository without installing anything. The only limitation is the robot checking problem which would require selenium and manual solution of the captchas, but for trying a few keywords, it should work!\n",
        "\n",
        "> **INSTRUCTIONS:** If this is the first time you are using a jupyter environment, you simply have to run the code blocks using the keyword `SHIFT` + `ENTER`. Make sure to update the keyword parameters when required.\n",
        "\n",
        "SortGS has been recently included to PyPI, so the instructions here got simpler. First, let's install the package:"
      ]
    },
    {
      "cell_type": "code",
      "metadata": {
        "id": "oPot8aWcsfei",
        "colab": {
          "base_uri": "https://localhost:8080/"
        },
        "outputId": "1c974ec7-b93e-4c12-9b96-d4b69c395924"
      },
      "source": [
        "!pip install sortgs"
      ],
      "execution_count": null,
      "outputs": [
        {
          "output_type": "stream",
          "name": "stdout",
          "text": [
            "Collecting sortgs\n",
            "  Downloading sortgs-1.0.2-py3-none-any.whl (8.8 kB)\n",
            "Installing collected packages: sortgs\n",
            "Successfully installed sortgs-1.0.2\n"
          ]
        }
      ]
    },
    {
      "cell_type": "markdown",
      "metadata": {
        "id": "KALGyCEJsvTL"
      },
      "source": [
        "Next, let's run it in the command line. Make sure to change \"deep learning\" to the keyword that you would like to have it ranked."
      ]
    },
    {
      "cell_type": "code",
      "metadata": {
        "id": "dohZcNUmrost",
        "colab": {
          "base_uri": "https://localhost:8080/"
        },
        "outputId": "359db4f7-7bd0-4eea-f4e0-efe6731c2b96"
      },
      "source": [
        "# Change 'deep learning' with the keyword that you would like to check\n",
        "!sortgs \"deep learning\" --sortby \"cit/year\""
      ],
      "execution_count": null,
      "outputs": [
        {
          "output_type": "stream",
          "name": "stdout",
          "text": [
            "Running with the following parameters:\n",
            "Keyword: deep learning, Number of results: 100, Save database: True, Path: /content, Sort by: cit/year, Plot results: False, Start year: None, End year: 2023, Debug: False\n",
            "Loading next 10 results\n",
            "Loading next 20 results\n",
            "Loading next 30 results\n",
            "Loading next 40 results\n",
            "Loading next 50 results\n",
            "Loading next 60 results\n",
            "Loading next 70 results\n",
            "Loading next 80 results\n",
            "Loading next 90 results\n",
            "Loading next 100 results\n",
            "                                 Author  ... cit/year\n",
            "Rank                                     ...         \n",
            "1             LeCun, Y Bengio, G Hinton  ...     7956\n",
            "2     Goodfellow, Y Bengio, A Courville  ...     7128\n",
            "50                          Schmidhuber  ...     2270\n",
            "97                              Chollet  ...     1880\n",
            "40                              Nielsen  ...      544\n",
            "...                                 ...  ...      ...\n",
            "27                               Lauzon  ...       12\n",
            "43    Arnold, S Rebecchi, S Chevallier…  ...       11\n",
            "70                  Angelov, A Sperduti  ...       10\n",
            "52                                  Kim  ...        8\n",
            "25            Hinton, Y LeCun, Y Bengio  ...        0\n",
            "\n",
            "[100 rows x 8 columns]\n",
            "Results saved to /content/deep_learning.csv\n"
          ]
        }
      ]
    },
    {
      "cell_type": "markdown",
      "metadata": {
        "id": "s_nuxpy_s_9c"
      },
      "source": [
        "> _**NOTE:** It is normal to get some warnings, for example year not found or author not found. However, if you get the robot checking warning, then it might not work anymore in the IP that you have on Google Colab. You can try going in 'Runtime' > 'Disconnect and delete runtime' to get a new IP. If the problem persists, then you will have to run locally using selenium and solve the captchas manually. Make sure to avoid running this code too often to avoid the robot checking problem._\n",
        "\n",
        "Next, you will see that a csv file with the name of the keyword was created (which is `deep_learning.csv` in my case)."
      ]
    },
    {
      "cell_type": "code",
      "metadata": {
        "id": "94792EoBrrBU",
        "colab": {
          "base_uri": "https://localhost:8080/"
        },
        "outputId": "ab008f88-df00-47a1-b1a9-062228c4f31a"
      },
      "source": [
        "ls"
      ],
      "execution_count": null,
      "outputs": [
        {
          "output_type": "stream",
          "name": "stdout",
          "text": [
            "deep_learning.csv  \u001b[0m\u001b[01;34msample_data\u001b[0m/\n"
          ]
        }
      ]
    },
    {
      "cell_type": "markdown",
      "metadata": {
        "id": "QQIb9oYou9GM"
      },
      "source": [
        "Let's import this file to visualize some results (make sure to change `deep_learning.csv` to the file name that was created in your case):"
      ]
    },
    {
      "cell_type": "code",
      "metadata": {
        "id": "NVoHI4zTr5pB"
      },
      "source": [
        "import pandas as pd\n",
        "df = pd.read_csv('deep_learning.csv') # OBS: Update the file name"
      ],
      "execution_count": null,
      "outputs": []
    },
    {
      "cell_type": "code",
      "metadata": {
        "id": "S1NzeUq0sOu-",
        "colab": {
          "base_uri": "https://localhost:8080/",
          "height": 537
        },
        "outputId": "cba23086-7481-4992-f7f8-a1163e2e2b4b"
      },
      "source": [
        "df.head(10)"
      ],
      "execution_count": null,
      "outputs": [
        {
          "output_type": "execute_result",
          "data": {
            "text/plain": [
              "   Rank                               Author  \\\n",
              "0     1            LeCun, Y Bengio, G Hinton   \n",
              "1     2    Goodfellow, Y Bengio, A Courville   \n",
              "2    50                          Schmidhuber   \n",
              "3    97                              Chollet   \n",
              "4    40                              Nielsen   \n",
              "5    13                           Deng, D Yu   \n",
              "6    44  Voulodimos, N Doulamis, A Doulamis…   \n",
              "7     5               Kamilaris, FX Prenafet   \n",
              "8    66                             Aggarwal   \n",
              "9    88         Sun, A Shrivastava, S Singh…   \n",
              "\n",
              "                                               Title  Citations  Year  \\\n",
              "0                                      Deep learning      71606  2015   \n",
              "1                                      Deep learning      57026  2016   \n",
              "2      Deep learning in neural networks: An overview      20433  2015   \n",
              "3                          Deep learning with Python       5641  2021   \n",
              "4                  Neural networks and deep learning       4897  2015   \n",
              "5            Deep learning: methods and applications       5361  2014   \n",
              "6  Deep learning for computer vision: A brief review       2922  2018   \n",
              "7             Deep learning in agriculture: A survey       2875  2018   \n",
              "8                  Neural networks and deep learning       2576  2018   \n",
              "9  Revisiting unreasonable effectiveness of data ...       2504  2017   \n",
              "\n",
              "                Publisher                                          Venue  \\\n",
              "0              nature.com                                         nature   \n",
              "1        books.google.com                                            NaN   \n",
              "2                Elsevier                                Neural networks   \n",
              "3        books.google.com                                            NaN   \n",
              "4            ise.ncsu.edu                                            NaN   \n",
              "5       nowpublishers.com   Foundations and trends® in signal processing   \n",
              "6             hindawi.com                                Computational …   \n",
              "7                Elsevier       Computers and electronics in agriculture   \n",
              "8                Springer                                       Springer   \n",
              "9   openaccess.thecvf.com                           Proceedings of the …   \n",
              "\n",
              "                                              Source  cit/year  \n",
              "0        https://www.nature.com/articles/nature14539      7956  \n",
              "1  https://books.google.com/books?hl=en&lr=&id=om...      7128  \n",
              "2  https://www.sciencedirect.com/science/article/...      2270  \n",
              "3  https://books.google.com/books?hl=en&lr=&id=mj...      1880  \n",
              "4  https://www.ise.ncsu.edu/fuzzy-neural/wp-conte...       544  \n",
              "5  https://www.nowpublishers.com/article/Details/...       536  \n",
              "6  https://www.hindawi.com/journals/cin/2018/7068...       487  \n",
              "7  https://www.sciencedirect.com/science/article/...       479  \n",
              "8  https://link.springer.com/content/pdf/10.1007/...       429  \n",
              "9  http://openaccess.thecvf.com/content_iccv_2017...       358  "
            ],
            "text/html": [
              "\n",
              "  <div id=\"df-cfb902c7-477e-455f-875b-67d0097931ac\" class=\"colab-df-container\">\n",
              "    <div>\n",
              "<style scoped>\n",
              "    .dataframe tbody tr th:only-of-type {\n",
              "        vertical-align: middle;\n",
              "    }\n",
              "\n",
              "    .dataframe tbody tr th {\n",
              "        vertical-align: top;\n",
              "    }\n",
              "\n",
              "    .dataframe thead th {\n",
              "        text-align: right;\n",
              "    }\n",
              "</style>\n",
              "<table border=\"1\" class=\"dataframe\">\n",
              "  <thead>\n",
              "    <tr style=\"text-align: right;\">\n",
              "      <th></th>\n",
              "      <th>Rank</th>\n",
              "      <th>Author</th>\n",
              "      <th>Title</th>\n",
              "      <th>Citations</th>\n",
              "      <th>Year</th>\n",
              "      <th>Publisher</th>\n",
              "      <th>Venue</th>\n",
              "      <th>Source</th>\n",
              "      <th>cit/year</th>\n",
              "    </tr>\n",
              "  </thead>\n",
              "  <tbody>\n",
              "    <tr>\n",
              "      <th>0</th>\n",
              "      <td>1</td>\n",
              "      <td>LeCun, Y Bengio, G Hinton</td>\n",
              "      <td>Deep learning</td>\n",
              "      <td>71606</td>\n",
              "      <td>2015</td>\n",
              "      <td>nature.com</td>\n",
              "      <td>nature</td>\n",
              "      <td>https://www.nature.com/articles/nature14539</td>\n",
              "      <td>7956</td>\n",
              "    </tr>\n",
              "    <tr>\n",
              "      <th>1</th>\n",
              "      <td>2</td>\n",
              "      <td>Goodfellow, Y Bengio, A Courville</td>\n",
              "      <td>Deep learning</td>\n",
              "      <td>57026</td>\n",
              "      <td>2016</td>\n",
              "      <td>books.google.com</td>\n",
              "      <td>NaN</td>\n",
              "      <td>https://books.google.com/books?hl=en&amp;lr=&amp;id=om...</td>\n",
              "      <td>7128</td>\n",
              "    </tr>\n",
              "    <tr>\n",
              "      <th>2</th>\n",
              "      <td>50</td>\n",
              "      <td>Schmidhuber</td>\n",
              "      <td>Deep learning in neural networks: An overview</td>\n",
              "      <td>20433</td>\n",
              "      <td>2015</td>\n",
              "      <td>Elsevier</td>\n",
              "      <td>Neural networks</td>\n",
              "      <td>https://www.sciencedirect.com/science/article/...</td>\n",
              "      <td>2270</td>\n",
              "    </tr>\n",
              "    <tr>\n",
              "      <th>3</th>\n",
              "      <td>97</td>\n",
              "      <td>Chollet</td>\n",
              "      <td>Deep learning with Python</td>\n",
              "      <td>5641</td>\n",
              "      <td>2021</td>\n",
              "      <td>books.google.com</td>\n",
              "      <td>NaN</td>\n",
              "      <td>https://books.google.com/books?hl=en&amp;lr=&amp;id=mj...</td>\n",
              "      <td>1880</td>\n",
              "    </tr>\n",
              "    <tr>\n",
              "      <th>4</th>\n",
              "      <td>40</td>\n",
              "      <td>Nielsen</td>\n",
              "      <td>Neural networks and deep learning</td>\n",
              "      <td>4897</td>\n",
              "      <td>2015</td>\n",
              "      <td>ise.ncsu.edu</td>\n",
              "      <td>NaN</td>\n",
              "      <td>https://www.ise.ncsu.edu/fuzzy-neural/wp-conte...</td>\n",
              "      <td>544</td>\n",
              "    </tr>\n",
              "    <tr>\n",
              "      <th>5</th>\n",
              "      <td>13</td>\n",
              "      <td>Deng, D Yu</td>\n",
              "      <td>Deep learning: methods and applications</td>\n",
              "      <td>5361</td>\n",
              "      <td>2014</td>\n",
              "      <td>nowpublishers.com</td>\n",
              "      <td>Foundations and trends® in signal processing</td>\n",
              "      <td>https://www.nowpublishers.com/article/Details/...</td>\n",
              "      <td>536</td>\n",
              "    </tr>\n",
              "    <tr>\n",
              "      <th>6</th>\n",
              "      <td>44</td>\n",
              "      <td>Voulodimos, N Doulamis, A Doulamis…</td>\n",
              "      <td>Deep learning for computer vision: A brief review</td>\n",
              "      <td>2922</td>\n",
              "      <td>2018</td>\n",
              "      <td>hindawi.com</td>\n",
              "      <td>Computational …</td>\n",
              "      <td>https://www.hindawi.com/journals/cin/2018/7068...</td>\n",
              "      <td>487</td>\n",
              "    </tr>\n",
              "    <tr>\n",
              "      <th>7</th>\n",
              "      <td>5</td>\n",
              "      <td>Kamilaris, FX Prenafet</td>\n",
              "      <td>Deep learning in agriculture: A survey</td>\n",
              "      <td>2875</td>\n",
              "      <td>2018</td>\n",
              "      <td>Elsevier</td>\n",
              "      <td>Computers and electronics in agriculture</td>\n",
              "      <td>https://www.sciencedirect.com/science/article/...</td>\n",
              "      <td>479</td>\n",
              "    </tr>\n",
              "    <tr>\n",
              "      <th>8</th>\n",
              "      <td>66</td>\n",
              "      <td>Aggarwal</td>\n",
              "      <td>Neural networks and deep learning</td>\n",
              "      <td>2576</td>\n",
              "      <td>2018</td>\n",
              "      <td>Springer</td>\n",
              "      <td>Springer</td>\n",
              "      <td>https://link.springer.com/content/pdf/10.1007/...</td>\n",
              "      <td>429</td>\n",
              "    </tr>\n",
              "    <tr>\n",
              "      <th>9</th>\n",
              "      <td>88</td>\n",
              "      <td>Sun, A Shrivastava, S Singh…</td>\n",
              "      <td>Revisiting unreasonable effectiveness of data ...</td>\n",
              "      <td>2504</td>\n",
              "      <td>2017</td>\n",
              "      <td>openaccess.thecvf.com</td>\n",
              "      <td>Proceedings of the …</td>\n",
              "      <td>http://openaccess.thecvf.com/content_iccv_2017...</td>\n",
              "      <td>358</td>\n",
              "    </tr>\n",
              "  </tbody>\n",
              "</table>\n",
              "</div>\n",
              "    <div class=\"colab-df-buttons\">\n",
              "\n",
              "  <div class=\"colab-df-container\">\n",
              "    <button class=\"colab-df-convert\" onclick=\"convertToInteractive('df-cfb902c7-477e-455f-875b-67d0097931ac')\"\n",
              "            title=\"Convert this dataframe to an interactive table.\"\n",
              "            style=\"display:none;\">\n",
              "\n",
              "  <svg xmlns=\"http://www.w3.org/2000/svg\" height=\"24px\" viewBox=\"0 -960 960 960\">\n",
              "    <path d=\"M120-120v-720h720v720H120Zm60-500h600v-160H180v160Zm220 220h160v-160H400v160Zm0 220h160v-160H400v160ZM180-400h160v-160H180v160Zm440 0h160v-160H620v160ZM180-180h160v-160H180v160Zm440 0h160v-160H620v160Z\"/>\n",
              "  </svg>\n",
              "    </button>\n",
              "\n",
              "  <style>\n",
              "    .colab-df-container {\n",
              "      display:flex;\n",
              "      gap: 12px;\n",
              "    }\n",
              "\n",
              "    .colab-df-convert {\n",
              "      background-color: #E8F0FE;\n",
              "      border: none;\n",
              "      border-radius: 50%;\n",
              "      cursor: pointer;\n",
              "      display: none;\n",
              "      fill: #1967D2;\n",
              "      height: 32px;\n",
              "      padding: 0 0 0 0;\n",
              "      width: 32px;\n",
              "    }\n",
              "\n",
              "    .colab-df-convert:hover {\n",
              "      background-color: #E2EBFA;\n",
              "      box-shadow: 0px 1px 2px rgba(60, 64, 67, 0.3), 0px 1px 3px 1px rgba(60, 64, 67, 0.15);\n",
              "      fill: #174EA6;\n",
              "    }\n",
              "\n",
              "    .colab-df-buttons div {\n",
              "      margin-bottom: 4px;\n",
              "    }\n",
              "\n",
              "    [theme=dark] .colab-df-convert {\n",
              "      background-color: #3B4455;\n",
              "      fill: #D2E3FC;\n",
              "    }\n",
              "\n",
              "    [theme=dark] .colab-df-convert:hover {\n",
              "      background-color: #434B5C;\n",
              "      box-shadow: 0px 1px 3px 1px rgba(0, 0, 0, 0.15);\n",
              "      filter: drop-shadow(0px 1px 2px rgba(0, 0, 0, 0.3));\n",
              "      fill: #FFFFFF;\n",
              "    }\n",
              "  </style>\n",
              "\n",
              "    <script>\n",
              "      const buttonEl =\n",
              "        document.querySelector('#df-cfb902c7-477e-455f-875b-67d0097931ac button.colab-df-convert');\n",
              "      buttonEl.style.display =\n",
              "        google.colab.kernel.accessAllowed ? 'block' : 'none';\n",
              "\n",
              "      async function convertToInteractive(key) {\n",
              "        const element = document.querySelector('#df-cfb902c7-477e-455f-875b-67d0097931ac');\n",
              "        const dataTable =\n",
              "          await google.colab.kernel.invokeFunction('convertToInteractive',\n",
              "                                                    [key], {});\n",
              "        if (!dataTable) return;\n",
              "\n",
              "        const docLinkHtml = 'Like what you see? Visit the ' +\n",
              "          '<a target=\"_blank\" href=https://colab.research.google.com/notebooks/data_table.ipynb>data table notebook</a>'\n",
              "          + ' to learn more about interactive tables.';\n",
              "        element.innerHTML = '';\n",
              "        dataTable['output_type'] = 'display_data';\n",
              "        await google.colab.output.renderOutput(dataTable, element);\n",
              "        const docLink = document.createElement('div');\n",
              "        docLink.innerHTML = docLinkHtml;\n",
              "        element.appendChild(docLink);\n",
              "      }\n",
              "    </script>\n",
              "  </div>\n",
              "\n",
              "\n",
              "<div id=\"df-ece2113b-9bd3-429e-83b7-936c0537ab96\">\n",
              "  <button class=\"colab-df-quickchart\" onclick=\"quickchart('df-ece2113b-9bd3-429e-83b7-936c0537ab96')\"\n",
              "            title=\"Suggest charts\"\n",
              "            style=\"display:none;\">\n",
              "\n",
              "<svg xmlns=\"http://www.w3.org/2000/svg\" height=\"24px\"viewBox=\"0 0 24 24\"\n",
              "     width=\"24px\">\n",
              "    <g>\n",
              "        <path d=\"M19 3H5c-1.1 0-2 .9-2 2v14c0 1.1.9 2 2 2h14c1.1 0 2-.9 2-2V5c0-1.1-.9-2-2-2zM9 17H7v-7h2v7zm4 0h-2V7h2v10zm4 0h-2v-4h2v4z\"/>\n",
              "    </g>\n",
              "</svg>\n",
              "  </button>\n",
              "\n",
              "<style>\n",
              "  .colab-df-quickchart {\n",
              "      --bg-color: #E8F0FE;\n",
              "      --fill-color: #1967D2;\n",
              "      --hover-bg-color: #E2EBFA;\n",
              "      --hover-fill-color: #174EA6;\n",
              "      --disabled-fill-color: #AAA;\n",
              "      --disabled-bg-color: #DDD;\n",
              "  }\n",
              "\n",
              "  [theme=dark] .colab-df-quickchart {\n",
              "      --bg-color: #3B4455;\n",
              "      --fill-color: #D2E3FC;\n",
              "      --hover-bg-color: #434B5C;\n",
              "      --hover-fill-color: #FFFFFF;\n",
              "      --disabled-bg-color: #3B4455;\n",
              "      --disabled-fill-color: #666;\n",
              "  }\n",
              "\n",
              "  .colab-df-quickchart {\n",
              "    background-color: var(--bg-color);\n",
              "    border: none;\n",
              "    border-radius: 50%;\n",
              "    cursor: pointer;\n",
              "    display: none;\n",
              "    fill: var(--fill-color);\n",
              "    height: 32px;\n",
              "    padding: 0;\n",
              "    width: 32px;\n",
              "  }\n",
              "\n",
              "  .colab-df-quickchart:hover {\n",
              "    background-color: var(--hover-bg-color);\n",
              "    box-shadow: 0 1px 2px rgba(60, 64, 67, 0.3), 0 1px 3px 1px rgba(60, 64, 67, 0.15);\n",
              "    fill: var(--button-hover-fill-color);\n",
              "  }\n",
              "\n",
              "  .colab-df-quickchart-complete:disabled,\n",
              "  .colab-df-quickchart-complete:disabled:hover {\n",
              "    background-color: var(--disabled-bg-color);\n",
              "    fill: var(--disabled-fill-color);\n",
              "    box-shadow: none;\n",
              "  }\n",
              "\n",
              "  .colab-df-spinner {\n",
              "    border: 2px solid var(--fill-color);\n",
              "    border-color: transparent;\n",
              "    border-bottom-color: var(--fill-color);\n",
              "    animation:\n",
              "      spin 1s steps(1) infinite;\n",
              "  }\n",
              "\n",
              "  @keyframes spin {\n",
              "    0% {\n",
              "      border-color: transparent;\n",
              "      border-bottom-color: var(--fill-color);\n",
              "      border-left-color: var(--fill-color);\n",
              "    }\n",
              "    20% {\n",
              "      border-color: transparent;\n",
              "      border-left-color: var(--fill-color);\n",
              "      border-top-color: var(--fill-color);\n",
              "    }\n",
              "    30% {\n",
              "      border-color: transparent;\n",
              "      border-left-color: var(--fill-color);\n",
              "      border-top-color: var(--fill-color);\n",
              "      border-right-color: var(--fill-color);\n",
              "    }\n",
              "    40% {\n",
              "      border-color: transparent;\n",
              "      border-right-color: var(--fill-color);\n",
              "      border-top-color: var(--fill-color);\n",
              "    }\n",
              "    60% {\n",
              "      border-color: transparent;\n",
              "      border-right-color: var(--fill-color);\n",
              "    }\n",
              "    80% {\n",
              "      border-color: transparent;\n",
              "      border-right-color: var(--fill-color);\n",
              "      border-bottom-color: var(--fill-color);\n",
              "    }\n",
              "    90% {\n",
              "      border-color: transparent;\n",
              "      border-bottom-color: var(--fill-color);\n",
              "    }\n",
              "  }\n",
              "</style>\n",
              "\n",
              "  <script>\n",
              "    async function quickchart(key) {\n",
              "      const quickchartButtonEl =\n",
              "        document.querySelector('#' + key + ' button');\n",
              "      quickchartButtonEl.disabled = true;  // To prevent multiple clicks.\n",
              "      quickchartButtonEl.classList.add('colab-df-spinner');\n",
              "      try {\n",
              "        const charts = await google.colab.kernel.invokeFunction(\n",
              "            'suggestCharts', [key], {});\n",
              "      } catch (error) {\n",
              "        console.error('Error during call to suggestCharts:', error);\n",
              "      }\n",
              "      quickchartButtonEl.classList.remove('colab-df-spinner');\n",
              "      quickchartButtonEl.classList.add('colab-df-quickchart-complete');\n",
              "    }\n",
              "    (() => {\n",
              "      let quickchartButtonEl =\n",
              "        document.querySelector('#df-ece2113b-9bd3-429e-83b7-936c0537ab96 button');\n",
              "      quickchartButtonEl.style.display =\n",
              "        google.colab.kernel.accessAllowed ? 'block' : 'none';\n",
              "    })();\n",
              "  </script>\n",
              "</div>\n",
              "\n",
              "    </div>\n",
              "  </div>\n"
            ]
          },
          "metadata": {},
          "execution_count": 6
        }
      ]
    },
    {
      "cell_type": "markdown",
      "metadata": {
        "id": "t7ZCDWaksZxj"
      },
      "source": [
        "Above we have the top 10 papers of deep learning ranked by citations per year. It is incredible that some papers are very far away from the original rank. For example, the fourth most cited paper per year is originally the number 41 in the original rank of Google!"
      ]
    },
    {
      "cell_type": "markdown",
      "metadata": {
        "id": "-xx5GEHuybPd"
      },
      "source": [
        "Finally, let's download the CSV results (make sure to update the CSV name here as well):"
      ]
    },
    {
      "cell_type": "code",
      "metadata": {
        "id": "Svc1GCM2yaLP",
        "colab": {
          "base_uri": "https://localhost:8080/",
          "height": 17
        },
        "outputId": "20f69f87-cd46-4e79-97ed-5656bb1041cf"
      },
      "source": [
        "from google.colab import files\n",
        "files.download('deep_learning.csv') # Update the file name here"
      ],
      "execution_count": null,
      "outputs": [
        {
          "output_type": "display_data",
          "data": {
            "text/plain": [
              "<IPython.core.display.Javascript object>"
            ],
            "application/javascript": [
              "\n",
              "    async function download(id, filename, size) {\n",
              "      if (!google.colab.kernel.accessAllowed) {\n",
              "        return;\n",
              "      }\n",
              "      const div = document.createElement('div');\n",
              "      const label = document.createElement('label');\n",
              "      label.textContent = `Downloading \"${filename}\": `;\n",
              "      div.appendChild(label);\n",
              "      const progress = document.createElement('progress');\n",
              "      progress.max = size;\n",
              "      div.appendChild(progress);\n",
              "      document.body.appendChild(div);\n",
              "\n",
              "      const buffers = [];\n",
              "      let downloaded = 0;\n",
              "\n",
              "      const channel = await google.colab.kernel.comms.open(id);\n",
              "      // Send a message to notify the kernel that we're ready.\n",
              "      channel.send({})\n",
              "\n",
              "      for await (const message of channel.messages) {\n",
              "        // Send a message to notify the kernel that we're ready.\n",
              "        channel.send({})\n",
              "        if (message.buffers) {\n",
              "          for (const buffer of message.buffers) {\n",
              "            buffers.push(buffer);\n",
              "            downloaded += buffer.byteLength;\n",
              "            progress.value = downloaded;\n",
              "          }\n",
              "        }\n",
              "      }\n",
              "      const blob = new Blob(buffers, {type: 'application/binary'});\n",
              "      const a = document.createElement('a');\n",
              "      a.href = window.URL.createObjectURL(blob);\n",
              "      a.download = filename;\n",
              "      div.appendChild(a);\n",
              "      a.click();\n",
              "      div.remove();\n",
              "    }\n",
              "  "
            ]
          },
          "metadata": {}
        },
        {
          "output_type": "display_data",
          "data": {
            "text/plain": [
              "<IPython.core.display.Javascript object>"
            ],
            "application/javascript": [
              "download(\"download_c6dc5338-6acd-42e8-86c6-2af9f461a141\", \"deep_learning.csv\", 19292)"
            ]
          },
          "metadata": {}
        }
      ]
    },
    {
      "cell_type": "markdown",
      "metadata": {
        "id": "09OFwDdM2K5h"
      },
      "source": [
        "OBS: If you get an error running the previous line, you can download the file manually by clicking in the left pane icon (below the `+ Code` button), then click in files, expand the `sort-google-scholar` folder, right click and download in the csv file:\n",
        "\n",
        "![](https://i.stack.imgur.com/KKJXFm.png)"
      ]
    },
    {
      "cell_type": "code",
      "metadata": {
        "id": "pM_Bb4MH14eI"
      },
      "source": [],
      "execution_count": null,
      "outputs": []
    }
  ]
}